{
 "cells": [
  {
   "cell_type": "code",
   "execution_count": 1,
   "metadata": {},
   "outputs": [
    {
     "name": "stderr",
     "output_type": "stream",
     "text": [
      "/gaueko0/users/asalem/anaconda3/envs/rag-llama/lib/python3.12/site-packages/tqdm/auto.py:22: TqdmWarning: IProgress not found. Please update jupyter and ipywidgets. See https://ipywidgets.readthedocs.io/en/stable/user_install.html\n",
      "  from .autonotebook import tqdm as notebook_tqdm\n"
     ]
    }
   ],
   "source": [
    "from datasets import load_dataset"
   ]
  },
  {
   "cell_type": "code",
   "execution_count": 2,
   "metadata": {},
   "outputs": [
    {
     "name": "stderr",
     "output_type": "stream",
     "text": [
      "Downloading readme: 100%|██████████| 302/302 [00:00<00:00, 2.02MB/s]\n",
      "Downloading data: 100%|██████████| 26.1k/26.1k [00:00<00:00, 188kB/s]\n",
      "Downloading data: 100%|██████████| 23.6k/23.6k [00:00<00:00, 170kB/s]\n",
      "Downloading data: 100%|██████████| 23.7k/23.7k [00:00<00:00, 176kB/s]\n",
      "Downloading data: 100%|██████████| 22.3k/22.3k [00:00<00:00, 165kB/s]\n",
      "Downloading data: 100%|██████████| 22.8k/22.8k [00:00<00:00, 168kB/s]\n",
      "Downloading data: 100%|██████████| 22.9k/22.9k [00:00<00:00, 168kB/s]\n",
      "Downloading data: 100%|██████████| 26.1k/26.1k [00:00<00:00, 183kB/s]\n",
      "Generating test split: 1050 examples [00:00, 78829.01 examples/s]\n"
     ]
    },
    {
     "data": {
      "text/plain": [
       "DatasetDict({\n",
       "    test: Dataset({\n",
       "        features: ['generation_seed', 'group', 'task', 'sequence', 'elements', 'target'],\n",
       "        num_rows: 1050\n",
       "    })\n",
       "})"
      ]
     },
     "execution_count": 2,
     "metadata": {},
     "output_type": "execute_result"
    }
   ],
   "source": [
    "ds = load_dataset(\"ahmedselhady/CoPain\")\n",
    "ds\n"
   ]
  },
  {
   "cell_type": "code",
   "execution_count": null,
   "metadata": {},
   "outputs": [],
   "source": []
  },
  {
   "cell_type": "code",
   "execution_count": null,
   "metadata": {},
   "outputs": [],
   "source": [
    "from glob import glob"
   ]
  },
  {
   "cell_type": "code",
   "execution_count": null,
   "metadata": {},
   "outputs": [],
   "source": [
    "files = glob(\"*.json\")"
   ]
  },
  {
   "cell_type": "code",
   "execution_count": null,
   "metadata": {},
   "outputs": [],
   "source": [
    "files"
   ]
  },
  {
   "cell_type": "code",
   "execution_count": null,
   "metadata": {},
   "outputs": [],
   "source": [
    "for file_ in files:\n",
    "    print(file_)\n",
    "    ds = load_dataset(\"json\", data_files=[file_])\n",
    "    print(ds)"
   ]
  },
  {
   "cell_type": "code",
   "execution_count": null,
   "metadata": {},
   "outputs": [],
   "source": [
    "for i in range(1, len(files)):\n",
    "    print(files[:i])\n",
    "    \n",
    "    ds = load_dataset(\"json\", data_files=files[:i])\n",
    "    print(ds)\n",
    "    \n",
    "    "
   ]
  },
  {
   "cell_type": "code",
   "execution_count": null,
   "metadata": {},
   "outputs": [],
   "source": [
    "load_dataset(\"json\", data_files=['./min_in_list.jsonl',\n",
    " './even_in_odd_group.jsonl',\n",
    " './max_in_list.jsonl',\n",
    " './median_in_list.jsonl',\n",
    " './odd_in_even_group.jsonl',\n",
    " ])"
   ]
  },
  {
   "cell_type": "code",
   "execution_count": null,
   "metadata": {},
   "outputs": [],
   "source": [
    "load_dataset(\"json\", data_files=[\n",
    "    \n",
    "    './first_character_in_list.jsonl',\n",
    " './latest_character_in_list.jsonl'])"
   ]
  },
  {
   "cell_type": "code",
   "execution_count": null,
   "metadata": {},
   "outputs": [],
   "source": [
    "import shutil\n",
    "import os\n"
   ]
  },
  {
   "cell_type": "code",
   "execution_count": null,
   "metadata": {},
   "outputs": [],
   "source": [
    "for file_ in files:\n",
    "    os.makedirs(f\"{file_.split('.')[0]}\", exist_ok=True)\n",
    "    shutil.move(file_, f\"{file_.split('.')[0]}/data.jsonl\")"
   ]
  },
  {
   "cell_type": "code",
   "execution_count": null,
   "metadata": {},
   "outputs": [],
   "source": [
    "files_ = glob(\"*/data.jsonl\")"
   ]
  },
  {
   "cell_type": "code",
   "execution_count": null,
   "metadata": {},
   "outputs": [],
   "source": [
    "files_"
   ]
  },
  {
   "cell_type": "code",
   "execution_count": null,
   "metadata": {},
   "outputs": [],
   "source": [
    "import pandas as pd \n",
    "for x in files_:\n",
    "    print(x)\n",
    "    df = pd.read_json(x, lines=True)\n",
    "    df['elements'] = df['elements'].apply(lambda element: [ str(e) for e in element])\n",
    "    df['target'] = df['target'].apply(str)\n",
    "    df.to_json(x, orient='records', lines=True)\n",
    "    \n",
    "    "
   ]
  },
  {
   "cell_type": "code",
   "execution_count": null,
   "metadata": {},
   "outputs": [],
   "source": []
  }
 ],
 "metadata": {
  "kernelspec": {
   "display_name": "rag-llama",
   "language": "python",
   "name": "python3"
  },
  "language_info": {
   "codemirror_mode": {
    "name": "ipython",
    "version": 3
   },
   "file_extension": ".py",
   "mimetype": "text/x-python",
   "name": "python",
   "nbconvert_exporter": "python",
   "pygments_lexer": "ipython3",
   "version": "3.12.2"
  }
 },
 "nbformat": 4,
 "nbformat_minor": 2
}
